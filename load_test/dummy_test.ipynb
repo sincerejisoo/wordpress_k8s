{
 "cells": [
  {
   "cell_type": "code",
   "execution_count": 1,
   "metadata": {},
   "outputs": [],
   "source": [
    "import openai\n",
    "from dotenv import load_dotenv\n",
    "import os\n",
    "\n",
    "load_dotenv()\n",
    "\n",
    "openai.api_key = os.getenv(\"OPENAI_API_KEY\")\n",
    "client = openai.OpenAI()"
   ]
  },
  {
   "cell_type": "code",
   "execution_count": 2,
   "metadata": {},
   "outputs": [
    {
     "name": "stdout",
     "output_type": "stream",
     "text": [
      "Sure! Here are ten dummy posts for your WordPress blog, each with a unique title and content.\n",
      "\n",
      "### Sample Post #1\n",
      "**Title:** Sample Post #1  \n",
      "**Content:** Welcome to the first dummy post on our blog! This post serves as a great way to test your API integration. Here, you can explore various features and functionalities that WordPress has to offer. Stay tuned for more informative content!\n",
      "\n",
      "---\n",
      "\n",
      "### Sample Post #2\n",
      "**Title:** Sample Post #2  \n",
      "**Content:** In this second sample post, we dive into the world of blogging. Blogging is not just about writing; it’s about sharing ideas. Whether you want to entertain, inform, or inspire, every post is an opportunity to connect with your audience.\n",
      "\n",
      "---\n",
      "\n",
      "### Sample Post #3\n",
      "**Title:** Sample Post #3  \n",
      "**Content:** Welcome back! This sample post highlights the importance of consistency in blogging. A regular posting schedule helps keep your readers engaged and encourages them to return. Remember, quality over quantity is key in creating standout content!\n",
      "\n",
      "---\n",
      "\n",
      "### Sample Post #4\n",
      "**Title:** Sample Post #4  \n",
      "**Content:** Sample Post #4 is here to explore the various topics you can write about. From travel and food to technology and self-improvement, the possibilities are endless. Choose a niche you are passionate about for the best results!\n",
      "\n",
      "---\n",
      "\n",
      "### Sample Post #5\n",
      "**Title:** Sample Post #5  \n",
      "**Content:** Did you know that visuals can significantly enhance your blog posts? In this sample post, we encourage you to incorporate images, videos, and infographics. They not only make your posts more engaging but also help convey your message effectively.\n",
      "\n",
      "---\n",
      "\n",
      "### Sample Post #6\n",
      "**Title:** Sample Post #6  \n",
      "**Content:** Let’s talk about SEO! This sample post offers a glimpse into search engine optimization techniques that can help boost your blog's visibility. Utilizing keywords, optimizing headings, and providing quality content are crucial for ranking higher in search engines.\n",
      "\n",
      "---\n",
      "\n",
      "### Sample Post #7\n",
      "**Title:** Sample Post #7  \n",
      "**Content:** In this week’s sample post, we discuss the significance of audience interaction. Encourage comments and feedback on your posts. Engaging with your readers creates a community and fosters loyalty. Let’s keep the conversation going!\n",
      "\n",
      "---\n",
      "\n",
      "### Sample Post #8\n",
      "**Title:** Sample Post #8  \n",
      "**Content:** Sample Post #8 is all about promoting your blog. Social media platforms, email newsletters, and collaborations with other bloggers are effective ways to reach a wider audience. Don’t hesitate to share your blog with the world!\n",
      "\n",
      "---\n",
      "\n",
      "### Sample Post #9\n",
      "**Title:** Sample Post #9  \n",
      "**Content:** This post explores the importance of analytics in blogging. By analyzing your traffic, you can understand what works and what doesn’t. Tools like Google Analytics provide valuable insights that can guide your content strategy moving forward.\n",
      "\n",
      "---\n",
      "\n",
      "### Sample Post #10\n",
      "**Title:** Sample Post #10  \n",
      "**Content:** Wrapping up our series of sample posts, we cover the need for adaptability in blogging. The digital landscape is ever-changing, and being open to new trends and ideas will help keep your content fresh and relevant. Keep learning and growing as a blogger!\n",
      "\n",
      "---\n",
      "\n",
      "Feel free to use or modify any of these sample posts as needed!\n"
     ]
    }
   ],
   "source": [
    "completion = client.chat.completions.create(\n",
    "    model=\"gpt-4o-mini\",\n",
    "    messages=[\n",
    "        {\n",
    "            \"role\": \"system\",\n",
    "            \"content\": \"I am going to make a dummy post for my wordpress blog to test the API.\"\n",
    "        },\n",
    "        {\n",
    "            \"role\": \"user\",\n",
    "            \"content\": \"Please make a post with the title 'Sample Post #i' and the content is on your own. Make ten copies\"\n",
    "        }\n",
    "    ]\n",
    ")\n",
    "\n",
    "print(completion.choices[0].message.content)"
   ]
  },
  {
   "cell_type": "code",
   "execution_count": 19,
   "metadata": {},
   "outputs": [
    {
     "data": {
      "text/plain": [
       "[('Sample Post #1',\n",
       "  'Welcome to the first dummy post on our blog! This post serves as a great way to test your API integration. Here, you can explore various features and functionalities that WordPress has to offer. Stay tuned for more informative content!'),\n",
       " ('Sample Post #2',\n",
       "  'In this second sample post, we dive into the world of blogging. Blogging is not just about writing; its about sharing ideas. Whether you want to entertain, inform, or inspire, every post is an opportunity to connect with your audience.'),\n",
       " ('Sample Post #3',\n",
       "  'Welcome back! This sample post highlights the importance of consistency in blogging. A regular posting schedule helps keep your readers engaged and encourages them to return. Remember, quality over quantity is key in creating standout content!'),\n",
       " ('Sample Post #4',\n",
       "  'Sample Post #4 is here to explore the various topics you can write about. From travel and food to technology and self-improvement, the possibilities are endless. Choose a niche you are passionate about for the best results!'),\n",
       " ('Sample Post #5',\n",
       "  'Did you know that visuals can significantly enhance your blog posts? In this sample post, we encourage you to incorporate images, videos, and infographics. They not only make your posts more engaging but also help convey your message effectively.'),\n",
       " ('Sample Post #6',\n",
       "  'Lets talk about SEO! This sample post offers a glimpse into search engine optimization techniques that can help boost your blogs visibility. Utilizing keywords, optimizing headings, and providing quality content are crucial for ranking higher in search engines.'),\n",
       " ('Sample Post #7',\n",
       "  'In this weeks sample post, we discuss the significance of audience interaction. Encourage comments and feedback on your posts. Engaging with your readers creates a community and fosters loyalty. Lets keep the conversation going!'),\n",
       " ('Sample Post #8',\n",
       "  'Sample Post #8 is all about promoting your blog. Social media platforms, email newsletters, and collaborations with other bloggers are effective ways to reach a wider audience. Dont hesitate to share your blog with the world!'),\n",
       " ('Sample Post #9',\n",
       "  'This post explores the importance of analytics in blogging. By analyzing your traffic, you can understand what works and what doesnt. Tools like Google Analytics provide valuable insights that can guide your content strategy moving forward.'),\n",
       " ('Sample Post #10',\n",
       "  'Wrapping up our series of sample posts, we cover the need for adaptability in blogging. The digital landscape is ever-changing, and being open to new trends and ideas will help keep your content fresh and relevant. Keep learning and growing as a blogger!')]"
      ]
     },
     "execution_count": 19,
     "metadata": {},
     "output_type": "execute_result"
    }
   ],
   "source": [
    "messages = completion.choices[0].message.content.split(\"\\n\")\n",
    "\n",
    "temp_list = []\n",
    "tuple_list = []\n",
    "for msg in messages:\n",
    "    msg = msg.replace(\"\\\"\", \"\")\n",
    "    msg = msg.replace(\"\\'\", \"\")\n",
    "    msg = msg.replace(\"’\", \"\")    \n",
    "    if \"Title:\" in msg:\n",
    "        title = msg.split(\":\")[1].strip()\n",
    "        temp_list.append(title[3:])\n",
    "    elif \"Content:\" in msg:\n",
    "        content = msg.split(\":\")[1].strip()\n",
    "        temp_list.append(content[3:]) \n",
    "    if len(temp_list) == 2:\n",
    "        tuple_list.append(tuple(temp_list))\n",
    "        temp_list = []    \n",
    "tuple_list        "
   ]
  },
  {
   "cell_type": "code",
   "execution_count": 20,
   "metadata": {},
   "outputs": [],
   "source": [
    "cmdfile = open(\"cmdfile.sh\", \"w\")\n",
    "for i in range(len(tuple_list)):\n",
    "    cmd = f\"wp post create --post_title='{tuple_list[i][0]}' --post_content='{tuple_list[i][1]}' --post_status='publish' --allow-root\"\n",
    "    cmdfile.write(cmd + \"\\n\")\n",
    "cmdfile.close()    "
   ]
  }
 ],
 "metadata": {
  "kernelspec": {
   "display_name": "Python 3",
   "language": "python",
   "name": "python3"
  },
  "language_info": {
   "codemirror_mode": {
    "name": "ipython",
    "version": 3
   },
   "file_extension": ".py",
   "mimetype": "text/x-python",
   "name": "python",
   "nbconvert_exporter": "python",
   "pygments_lexer": "ipython3",
   "version": "3.12.3"
  }
 },
 "nbformat": 4,
 "nbformat_minor": 2
}
